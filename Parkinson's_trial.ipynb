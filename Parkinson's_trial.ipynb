{
  "cells": [
    {
      "cell_type": "markdown",
      "metadata": {
        "id": "WVXtEpAsDSrc"
      },
      "source": [
        "<h2>Import the necessary Library</h2>"
      ]
    },
    {
      "cell_type": "code",
      "execution_count": null,
      "metadata": {
        "id": "wdu1SvgkDSrf"
      },
      "outputs": [],
      "source": [
        "# Import necessary libraries\n",
        "import pandas as pd  # Pandas for data handling\n",
        "import numpy as np    # NumPy for numerical operations\n",
        "import matplotlib.pyplot as plt  # Matplotlib for plotting"
      ]
    },
    {
      "cell_type": "markdown",
      "metadata": {
        "id": "9BKRUHGbDSrh"
      },
      "source": [
        "<h2>Read the features from file</h2>"
      ]
    },
    {
      "cell_type": "code",
      "execution_count": null,
      "metadata": {
        "id": "CNYGNAX_DSri"
      },
      "outputs": [],
      "source": [
        "\n",
        "# Load the dataset from the CSV file\n",
        "df = pd.read_csv(\"face_mimic_df.csv\")\n",
        "\n",
        "# Define the list of features to be used for analysis\n",
        "feats = ['AU_01_t12','AU_06_t12','AU_12_t12','AU_04_t13','AU_07_t13','AU_09_t13','AU_01_t14','AU_02_t14','AU_04_t14']\n",
        "\n",
        "# Extract the feature columns from the dataset and remove rows with missing values\n",
        "X = df[feats].dropna()\n",
        "\n",
        "# Extract the target variable (diagnosed) and remove rows with missing values\n",
        "y = df['diagnosed'].dropna()\n",
        "\n",
        "# Apply SMOTE (Synthetic Minority Over-sampling Technique) to balance the class distribution\n",
        "X_resampled, y_resampled = SMOTE().fit_resample(X, y)\n"
      ]
    },
    {
      "cell_type": "markdown",
      "metadata": {
        "id": "WsgDtmJ8DSri"
      },
      "source": [
        "<h2>Run Statistical Analysis</h2>"
      ]
    },
    {
      "cell_type": "code",
      "execution_count": null,
      "metadata": {
        "id": "c1aHSo73DSri",
        "outputId": "f84bfb7c-2566-47e2-b0f7-e9d0fff5e9ef"
      },
      "outputs": [
        {
          "data": {
            "text/html": [
              "<div>\n",
              "<style scoped>\n",
              "    .dataframe tbody tr th:only-of-type {\n",
              "        vertical-align: middle;\n",
              "    }\n",
              "\n",
              "    .dataframe tbody tr th {\n",
              "        vertical-align: top;\n",
              "    }\n",
              "\n",
              "    .dataframe thead th {\n",
              "        text-align: right;\n",
              "    }\n",
              "</style>\n",
              "<table border=\"1\" class=\"dataframe\">\n",
              "  <thead>\n",
              "    <tr style=\"text-align: right;\">\n",
              "      <th></th>\n",
              "      <th>feature</th>\n",
              "      <th>mean PD</th>\n",
              "      <th>mean nPD</th>\n",
              "      <th>sd PD</th>\n",
              "      <th>sd nPD</th>\n",
              "      <th>p</th>\n",
              "      <th>u</th>\n",
              "    </tr>\n",
              "  </thead>\n",
              "  <tbody>\n",
              "    <tr>\n",
              "      <th>0</th>\n",
              "      <td>AU_01_t12</td>\n",
              "      <td>0.145</td>\n",
              "      <td>0.074</td>\n",
              "      <td>0.182</td>\n",
              "      <td>0.119</td>\n",
              "      <td>0.001</td>\n",
              "      <td>6,006.000</td>\n",
              "    </tr>\n",
              "    <tr>\n",
              "      <th>1</th>\n",
              "      <td>AU_06_t12</td>\n",
              "      <td>0.171</td>\n",
              "      <td>0.247</td>\n",
              "      <td>0.152</td>\n",
              "      <td>0.250</td>\n",
              "      <td>0.047</td>\n",
              "      <td>7,409.000</td>\n",
              "    </tr>\n",
              "    <tr>\n",
              "      <th>2</th>\n",
              "      <td>AU_12_t12</td>\n",
              "      <td>0.211</td>\n",
              "      <td>0.273</td>\n",
              "      <td>0.179</td>\n",
              "      <td>0.243</td>\n",
              "      <td>0.065</td>\n",
              "      <td>7,556.000</td>\n",
              "    </tr>\n",
              "    <tr>\n",
              "      <th>3</th>\n",
              "      <td>AU_04_t13</td>\n",
              "      <td>0.187</td>\n",
              "      <td>0.262</td>\n",
              "      <td>0.199</td>\n",
              "      <td>0.316</td>\n",
              "      <td>0.063</td>\n",
              "      <td>7,539.000</td>\n",
              "    </tr>\n",
              "    <tr>\n",
              "      <th>4</th>\n",
              "      <td>AU_07_t13</td>\n",
              "      <td>0.187</td>\n",
              "      <td>0.242</td>\n",
              "      <td>0.205</td>\n",
              "      <td>0.268</td>\n",
              "      <td>0.103</td>\n",
              "      <td>7,774.000</td>\n",
              "    </tr>\n",
              "    <tr>\n",
              "      <th>5</th>\n",
              "      <td>AU_09_t13</td>\n",
              "      <td>0.042</td>\n",
              "      <td>0.041</td>\n",
              "      <td>0.060</td>\n",
              "      <td>0.066</td>\n",
              "      <td>0.267</td>\n",
              "      <td>8,335.000</td>\n",
              "    </tr>\n",
              "    <tr>\n",
              "      <th>6</th>\n",
              "      <td>AU_01_t14</td>\n",
              "      <td>0.279</td>\n",
              "      <td>0.266</td>\n",
              "      <td>0.283</td>\n",
              "      <td>0.317</td>\n",
              "      <td>0.172</td>\n",
              "      <td>8,052.500</td>\n",
              "    </tr>\n",
              "    <tr>\n",
              "      <th>7</th>\n",
              "      <td>AU_02_t14</td>\n",
              "      <td>0.151</td>\n",
              "      <td>0.121</td>\n",
              "      <td>0.288</td>\n",
              "      <td>0.177</td>\n",
              "      <td>0.144</td>\n",
              "      <td>7,949.000</td>\n",
              "    </tr>\n",
              "    <tr>\n",
              "      <th>8</th>\n",
              "      <td>AU_04_t14</td>\n",
              "      <td>0.307</td>\n",
              "      <td>0.398</td>\n",
              "      <td>0.370</td>\n",
              "      <td>0.431</td>\n",
              "      <td>0.061</td>\n",
              "      <td>7,525.000</td>\n",
              "    </tr>\n",
              "  </tbody>\n",
              "</table>\n",
              "</div>"
            ],
            "text/plain": [
              "     feature  mean PD  mean nPD  sd PD  sd nPD     p         u\n",
              "0  AU_01_t12    0.145     0.074  0.182   0.119 0.001 6,006.000\n",
              "1  AU_06_t12    0.171     0.247  0.152   0.250 0.047 7,409.000\n",
              "2  AU_12_t12    0.211     0.273  0.179   0.243 0.065 7,556.000\n",
              "3  AU_04_t13    0.187     0.262  0.199   0.316 0.063 7,539.000\n",
              "4  AU_07_t13    0.187     0.242  0.205   0.268 0.103 7,774.000\n",
              "5  AU_09_t13    0.042     0.041  0.060   0.066 0.267 8,335.000\n",
              "6  AU_01_t14    0.279     0.266  0.283   0.317 0.172 8,052.500\n",
              "7  AU_02_t14    0.151     0.121  0.288   0.177 0.144 7,949.000\n",
              "8  AU_04_t14    0.307     0.398  0.370   0.431 0.061 7,525.000"
            ]
          },
          "execution_count": 3,
          "metadata": {},
          "output_type": "execute_result"
        }
      ],
      "source": [
        "# Initialize an empty dictionary to store the results\n",
        "result = dict()\n",
        "result['feature'] = []  # List to store feature names\n",
        "result['mean PD'] = []  # List to store mean values for the 'diagnosed' class\n",
        "result['mean nPD'] = []  # List to store mean values for the 'not diagnosed' class\n",
        "result['sd PD'] = []  # List to store standard deviations for the 'diagnosed' class\n",
        "result['sd nPD'] = []  # List to store standard deviations for the 'not diagnosed' class\n",
        "result['p'] = []  # List to store p-values from the Mann-Whitney U test\n",
        "result['u'] = []  # List to store U-statistics from the Mann-Whitney U test\n",
        "\n",
        "# Loop through each feature in the 'feats' list\n",
        "for f in feats:\n",
        "    # Extract data for the 'diagnosed' class and remove rows with missing values\n",
        "    pd_df = df[df['diagnosed'] == 1][f].dropna()\n",
        "\n",
        "    # Extract data for the 'not diagnosed' class and remove rows with missing values\n",
        "    npd_df = df[df['diagnosed'] == 0][f].dropna()\n",
        "\n",
        "    # Append feature name to the 'feature' list\n",
        "    result['feature'].append(f)\n",
        "\n",
        "    # Calculate and append the mean for the 'diagnosed' class\n",
        "    result['mean PD'].append(pd_df.mean())\n",
        "\n",
        "    # Calculate and append the mean for the 'not diagnosed' class\n",
        "    result['mean nPD'].append(npd_df.mean())\n",
        "\n",
        "    # Calculate and append the standard deviation for the 'diagnosed' class\n",
        "    result['sd PD'].append(pd_df.std())\n",
        "\n",
        "    # Calculate and append the standard deviation for the 'not diagnosed' class\n",
        "    result['sd nPD'].append(npd_df.std())\n",
        "\n",
        "    # Perform the Mann-Whitney U test to compare the two groups and append the U-statistic\n",
        "    result['u'].append(mannwhitneyu(pd_df, npd_df)[0])\n",
        "\n",
        "    # Perform the Mann-Whitney U test to compare the two groups and append the p-value\n",
        "    result['p'].append(mannwhitneyu(pd_df, npd_df)[1])\n",
        "\n",
        "# Create a pandas DataFrame from the 'result' dictionary\n",
        "result = pd.DataFrame(result)\n",
        "\n",
        "# Set the display format for float values\n",
        "pd.options.display.float_format = \"{:,.3f}\".format\n"
      ]
    },
    {
      "cell_type": "markdown",
      "metadata": {
        "id": "0He1MqEvDSrj"
      },
      "source": [
        "<h2>Linear Regression Analysis</h2>"
      ]
    },
    {
      "cell_type": "code",
      "execution_count": null,
      "metadata": {
        "id": "phQmMuHUDSrk",
        "outputId": "ab34dc11-88d2-4f31-8ba8-40d1c896131c"
      },
      "outputs": [
        {
          "name": "stdout",
          "output_type": "stream",
          "text": [
            "Optimization terminated successfully.\n",
            "         Current function value: 0.622597\n",
            "         Iterations: 22\n",
            "         Function evaluations: 23\n",
            "         Gradient evaluations: 23\n",
            "                           Logit Regression Results                           \n",
            "==============================================================================\n",
            "Dep. Variable:                      y   No. Observations:                  960\n",
            "Model:                          Logit   Df Residuals:                      951\n",
            "Method:                           MLE   Df Model:                            8\n",
            "Date:                Thu, 03 Dec 2020   Pseudo R-squ.:                  0.1018\n",
            "Time:                        01:43:30   Log-Likelihood:                -597.69\n",
            "converged:                       True   LL-Null:                       -665.42\n",
            "Covariance Type:            nonrobust   LLR p-value:                 2.086e-25\n",
            "==============================================================================\n",
            "                 coef    std err          z      P>|z|      [0.025      0.975]\n",
            "------------------------------------------------------------------------------\n",
            "x1             0.4524      0.086      5.266      0.000       0.284       0.621\n",
            "x2            -0.1917      0.090     -2.133      0.033      -0.368      -0.016\n",
            "x3            -0.5085      0.100     -5.097      0.000      -0.704      -0.313\n",
            "x4            -0.3490      0.108     -3.240      0.001      -0.560      -0.138\n",
            "x5            -0.2672      0.096     -2.791      0.005      -0.455      -0.080\n",
            "x6            -0.0069      0.099     -0.070      0.944      -0.200       0.186\n",
            "x7             0.0466      0.098      0.474      0.636      -0.146       0.240\n",
            "x8            -0.0823      0.094     -0.879      0.379      -0.266       0.101\n",
            "x9            -0.1971      0.089     -2.223      0.026      -0.371      -0.023\n",
            "==============================================================================\n",
            "9\n"
          ]
        },
        {
          "name": "stderr",
          "output_type": "stream",
          "text": [
            "<ipython-input-7-fff0ef16dedd>:14: MatplotlibDeprecationWarning: Using a string of single character colors as a color sequence is deprecated. Use an explicit list instead.\n",
            "  plt.bar(np.arange(9),results.params,color = 'gbgggbbbb')\n",
            "<ipython-input-7-fff0ef16dedd>:15: MatplotlibDeprecationWarning: Using a string of single character colors as a color sequence is deprecated. Use an explicit list instead.\n",
            "  plt.bar(np.arange(9),results.params,color = 'ggggbbbbb')\n"
          ]
        },
        {
          "data": {
            "image/png": "[encoded data removed]",
            "text/plain": [
              "<Figure size 432x288 with 1 Axes>"
            ]
          },
          "metadata": {
            "needs_background": "light"
          },
          "output_type": "display_data"
        }
      ],
      "source": [
        "# Define the list of features to be used for analysis\n",
        "feats = ['AU_01_t12','AU_06_t12','AU_12_t12','AU_04_t13','AU_07_t13','AU_09_t13','AU_01_t14','AU_02_t14','AU_04_t14']\n",
        "\n",
        "# Extract the feature columns from the dataset and remove rows with missing values\n",
        "X = df[feats].dropna()\n",
        "\n",
        "# Extract the target variable (diagnosed) and remove rows with missing values\n",
        "y = df['diagnosed'].dropna()\n",
        "\n",
        "# Standardize the feature data using the 'scale' function to have mean=0 and standard deviation=1\n",
        "X = scale(X)\n",
        "\n",
        "# Convert the target variable 'y' into a NumPy array\n",
        "y = np.array(y)\n",
        "\n",
        "# Apply SMOTE (Synthetic Minority Over-sampling Technique) to balance the class distribution\n",
        "X_resampled, y_resampled = SMOTE().fit_resample(X, y)\n",
        "\n",
        "# Fit a logistic regression model using statsmodels' Logit function with the 'bfgs' optimization method\n",
        "results = sm.Logit(y_resampled, X_resampled).fit(method='bfgs')\n",
        "\n",
        "# Print the summary of the logistic regression results\n",
        "print(results.summary())\n",
        "\n",
        "# Get the number of parameters in the regression model\n",
        "print(len(results.params))\n",
        "\n",
        "# Define feature names for plotting\n",
        "feat_names = ['AU_01 (Smile)*','AU_06 (Smile)','AU_12 (Smile)*','AU_04 (Disgust)*','AU_07 (Disgust)', 'AU_09 (Disgust)',\\\n",
        "              'AU_01 (Surprise)','AU_02 (Surprise)','AU_04 (Surprise)']\n",
        "\n",
        "# Create a bar plot of regression weights\n",
        "plt.bar(np.arange(9),results.params,color = 'gbgggbbbb')\n",
        "plt.bar(np.arange(9),results.params,color = 'ggggbbbbb')\n",
        "plt.xlabel(\"Features\")\n",
        "plt.ylabel(\"Regression Weights\")\n",
        "plt.xticks(np.arange(9),feat_names,rotation=90)\n",
        "plt.savefig(\"Regression_weights.png\",bbox_inches='tight',dpi = 300)\n",
        "plt.show()\n"
      ]
    },
    {
      "cell_type": "markdown",
      "metadata": {
        "id": "FYufLogdDSrl"
      },
      "source": [
        "<h2>Classification</h2>"
      ]
    },
    {
      "cell_type": "code",
      "execution_count": null,
      "metadata": {
        "id": "L8VfH7B9DSrm",
        "outputId": "661a2ac3-a895-4e26-d1a8-796dcd5f8783"
      },
      "outputs": [
        {
          "name": "stdout",
          "output_type": "stream",
          "text": [
            "0.9541666666666667 0.9539748953974896 0.9541666666666667 0.957983193277311 0.95\n"
          ]
        },
        {
          "data": {
            "text/plain": [
              "<Figure size 432x288 with 0 Axes>"
            ]
          },
          "metadata": {},
          "output_type": "display_data"
        }
      ],
      "source": [
        "# Import necessary libraries\n",
        "from imblearn.over_sampling import SMOTE\n",
        "from sklearn.preprocessing import scale\n",
        "from sklearn import svm\n",
        "from sklearn.model_selection import cross_val_predict\n",
        "from sklearn.metrics import accuracy_score, f1_score, roc_auc_score, precision_score, recall_score\n",
        "from collections import Counter\n",
        "\n",
        "# Define the list of features to be used for analysis\n",
        "feats = ['AU_01_t12','AU_06_t12','AU_12_t12','AU_04_t13','AU_07_t13', 'AU_09_t13','AU_01_t14','AU_02_t14','AU_04_t14']\n",
        "\n",
        "# Extract the feature columns from the dataset and remove rows with missing values\n",
        "X = df[feats].dropna()\n",
        "\n",
        "# Extract the target variable (diagnosed) and remove rows with missing values\n",
        "y = df['diagnosed'].dropna()\n",
        "\n",
        "# Standardize the feature data using the 'scale' function to have mean=0 and standard deviation=1\n",
        "X = scale(X)\n",
        "\n",
        "# Convert the target variable 'y' into a NumPy array\n",
        "y = np.array(y)\n",
        "\n",
        "# Apply SMOTE (Synthetic Minority Over-sampling Technique) to balance the class distribution\n",
        "X_resampled, y_resampled = SMOTE().fit_resample(X, y)\n",
        "\n",
        "# Initialize variables to store the best performance metrics\n",
        "best_auc = 0\n",
        "best_f1 = 0\n",
        "best_acc = 0\n",
        "best_pre = 0\n",
        "best_re = 0\n",
        "\n",
        "# Loop through different values of C and gamma for the SVM classifier\n",
        "for c in np.arange(0.1, 10, 2):\n",
        "    for g in np.arange(0.1, 2, 0.05):\n",
        "        # Create an SVM classifier with the specified kernel, C, and gamma values\n",
        "        clf = svm.SVC(kernel='rbf', C=c, gamma=g).fit(X_resampled, y_resampled)\n",
        "\n",
        "        # Use cross-validation to make predictions and evaluate performance metrics\n",
        "        y_pred = cross_val_predict(clf, X_resampled, y_resampled, cv=10)\n",
        "\n",
        "        # Calculate accuracy, AUC, F1-score, precision, and recall\n",
        "        acc = accuracy_score(y_resampled, y_pred)\n",
        "        auc = roc_auc_score(y_resampled, y_pred)\n",
        "        f1 = f1_score(y_resampled, y_pred)\n",
        "        pre = precision_score(y_resampled, y_pred)\n",
        "        re = recall_score(y_resampled, y_pred)\n",
        "\n",
        "        # Update the best performance metrics if the current model performs better\n",
        "        if auc > best_auc:\n",
        "            best_auc = auc\n",
        "            best_f1 = f1\n",
        "            best_acc = acc\n",
        "            best_pre = pre\n",
        "            best_re = re\n",
        "\n",
        "# Print the best performance metrics\n",
        "print(best_acc, best_f1, best_auc, best_pre, best_re)\n",
        "\n"
      ]
    }
  ],
  "metadata": {
    "kernelspec": {
      "display_name": "Python 3",
      "language": "python",
      "name": "python3"
    },
    "language_info": {
      "codemirror_mode": {
        "name": "ipython",
        "version": 3
      },
      "file_extension": ".py",
      "mimetype": "text/x-python",
      "name": "python",
      "nbconvert_exporter": "python",
      "pygments_lexer": "ipython3",
      "version": "3.8.3"
    },
    "colab": {
      "provenance": []
    }
  },
  "nbformat": 4,
  "nbformat_minor": 0
}