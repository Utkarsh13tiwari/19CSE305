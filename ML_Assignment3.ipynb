{
  "nbformat": 4,
  "nbformat_minor": 0,
  "metadata": {
    "colab": {
      "provenance": [],
      "include_colab_link": true
    },
    "kernelspec": {
      "name": "python3",
      "display_name": "Python 3"
    },
    "language_info": {
      "name": "python"
    }
  },
  "cells": [
    {
      "cell_type": "markdown",
      "metadata": {
        "id": "view-in-github",
        "colab_type": "text"
      },
      "source": [
        "<a href=\"https://colab.research.google.com/github/Utkarsh13tiwari/19CSE305/blob/KNN/ML_Assignment3.ipynb\" target=\"_parent\"><img src=\"https://colab.research.google.com/assets/colab-badge.svg\" alt=\"Open In Colab\"/></a>"
      ]
    },
    {
      "cell_type": "code",
      "execution_count": 50,
      "metadata": {
        "id": "5Z4vC9HEsy7e",
        "colab": {
          "base_uri": "https://localhost:8080/",
          "height": 424
        },
        "outputId": "49452965-3e44-4fc5-8dd9-70950678f4c8"
      },
      "outputs": [
        {
          "output_type": "execute_result",
          "data": {
            "text/plain": [
              "     Unnamed: 0                          id   age  gender  diagnosed  \\\n",
              "0             0  2019-09-25T18-51-06-885Z26  65.0       1          1   \n",
              "1             1   2019-10-02T00-47-55-382Z3  57.0       1          1   \n",
              "2             2  2019-10-03T13-13-40-042Z56  51.0       1          0   \n",
              "3             3  2019-10-05T02-22-14-207Z34  72.0       1          1   \n",
              "4             4  2019-10-05T14-19-59-179Z31  86.0       0          0   \n",
              "..          ...                         ...   ...     ...        ...   \n",
              "512         512  2020-04-18T17-29-39-337Z43  74.0       1          0   \n",
              "513         513  2020-04-18T17-33-39-585Z56  67.0       0          1   \n",
              "514         514  2020-04-18T21-15-17-924Z84  59.0       0          0   \n",
              "515         515  2020-04-19T15-14-28-684Z91  64.0       0          0   \n",
              "516         516   2020-04-20T14-36-35-981Z9  59.0       0          0   \n",
              "\n",
              "     AU_01_t12  AU_06_t12  AU_12_t12  AU_04_t13  AU_07_t13  AU_09_t13  \\\n",
              "0     0.079102   0.252395   0.482137   0.216193   0.074656   0.005104   \n",
              "1     0.059371   0.086916   0.147827   0.321326   0.100838   0.015806   \n",
              "2     0.228496   0.517799   0.077302   0.023963   0.008114   0.009518   \n",
              "3     0.058291   0.077728   0.170557   0.243995   0.012674   0.108509   \n",
              "4     0.008417   0.215586   0.103639   0.081530   0.192569   0.007118   \n",
              "..         ...        ...        ...        ...        ...        ...   \n",
              "512   0.467770   0.058379   0.137685   0.226604   0.000440   0.001634   \n",
              "513   0.005744   0.032865   0.189778   0.057712   0.212300   0.013286   \n",
              "514   0.027014   0.557507   0.234040   0.976259   0.689190   0.030017   \n",
              "515   0.021722   0.162771   0.905485   0.197712   0.198037   0.112724   \n",
              "516   0.004831   0.159525   0.126691   0.053409   0.063835   0.012370   \n",
              "\n",
              "     AU_01_t14  AU_02_t14  AU_04_t14  \n",
              "0     0.276285   0.103460   1.463085  \n",
              "1     0.339573   0.034221   0.327894  \n",
              "2     0.249356   0.187397   0.123984  \n",
              "3     1.021001   1.738898   0.254853  \n",
              "4     0.000000   0.000000   0.000000  \n",
              "..         ...        ...        ...  \n",
              "512   0.042374   0.001818   0.353959  \n",
              "513   0.309719   0.086577   0.000581  \n",
              "514   0.094675   0.070691   0.783146  \n",
              "515   0.059400   0.163631   1.268910  \n",
              "516   0.158586   0.054872   0.345505  \n",
              "\n",
              "[517 rows x 14 columns]"
            ],
            "text/html": [
              "\n",
              "  <div id=\"df-33ae5731-b087-48e2-b9d3-e0c24c5c0314\" class=\"colab-df-container\">\n",
              "    <div>\n",
              "<style scoped>\n",
              "    .dataframe tbody tr th:only-of-type {\n",
              "        vertical-align: middle;\n",
              "    }\n",
              "\n",
              "    .dataframe tbody tr th {\n",
              "        vertical-align: top;\n",
              "    }\n",
              "\n",
              "    .dataframe thead th {\n",
              "        text-align: right;\n",
              "    }\n",
              "</style>\n",
              "<table border=\"1\" class=\"dataframe\">\n",
              "  <thead>\n",
              "    <tr style=\"text-align: right;\">\n",
              "      <th></th>\n",
              "      <th>Unnamed: 0</th>\n",
              "      <th>id</th>\n",
              "      <th>age</th>\n",
              "      <th>gender</th>\n",
              "      <th>diagnosed</th>\n",
              "      <th>AU_01_t12</th>\n",
              "      <th>AU_06_t12</th>\n",
              "      <th>AU_12_t12</th>\n",
              "      <th>AU_04_t13</th>\n",
              "      <th>AU_07_t13</th>\n",
              "      <th>AU_09_t13</th>\n",
              "      <th>AU_01_t14</th>\n",
              "      <th>AU_02_t14</th>\n",
              "      <th>AU_04_t14</th>\n",
              "    </tr>\n",
              "  </thead>\n",
              "  <tbody>\n",
              "    <tr>\n",
              "      <th>0</th>\n",
              "      <td>0</td>\n",
              "      <td>2019-09-25T18-51-06-885Z26</td>\n",
              "      <td>65.0</td>\n",
              "      <td>1</td>\n",
              "      <td>1</td>\n",
              "      <td>0.079102</td>\n",
              "      <td>0.252395</td>\n",
              "      <td>0.482137</td>\n",
              "      <td>0.216193</td>\n",
              "      <td>0.074656</td>\n",
              "      <td>0.005104</td>\n",
              "      <td>0.276285</td>\n",
              "      <td>0.103460</td>\n",
              "      <td>1.463085</td>\n",
              "    </tr>\n",
              "    <tr>\n",
              "      <th>1</th>\n",
              "      <td>1</td>\n",
              "      <td>2019-10-02T00-47-55-382Z3</td>\n",
              "      <td>57.0</td>\n",
              "      <td>1</td>\n",
              "      <td>1</td>\n",
              "      <td>0.059371</td>\n",
              "      <td>0.086916</td>\n",
              "      <td>0.147827</td>\n",
              "      <td>0.321326</td>\n",
              "      <td>0.100838</td>\n",
              "      <td>0.015806</td>\n",
              "      <td>0.339573</td>\n",
              "      <td>0.034221</td>\n",
              "      <td>0.327894</td>\n",
              "    </tr>\n",
              "    <tr>\n",
              "      <th>2</th>\n",
              "      <td>2</td>\n",
              "      <td>2019-10-03T13-13-40-042Z56</td>\n",
              "      <td>51.0</td>\n",
              "      <td>1</td>\n",
              "      <td>0</td>\n",
              "      <td>0.228496</td>\n",
              "      <td>0.517799</td>\n",
              "      <td>0.077302</td>\n",
              "      <td>0.023963</td>\n",
              "      <td>0.008114</td>\n",
              "      <td>0.009518</td>\n",
              "      <td>0.249356</td>\n",
              "      <td>0.187397</td>\n",
              "      <td>0.123984</td>\n",
              "    </tr>\n",
              "    <tr>\n",
              "      <th>3</th>\n",
              "      <td>3</td>\n",
              "      <td>2019-10-05T02-22-14-207Z34</td>\n",
              "      <td>72.0</td>\n",
              "      <td>1</td>\n",
              "      <td>1</td>\n",
              "      <td>0.058291</td>\n",
              "      <td>0.077728</td>\n",
              "      <td>0.170557</td>\n",
              "      <td>0.243995</td>\n",
              "      <td>0.012674</td>\n",
              "      <td>0.108509</td>\n",
              "      <td>1.021001</td>\n",
              "      <td>1.738898</td>\n",
              "      <td>0.254853</td>\n",
              "    </tr>\n",
              "    <tr>\n",
              "      <th>4</th>\n",
              "      <td>4</td>\n",
              "      <td>2019-10-05T14-19-59-179Z31</td>\n",
              "      <td>86.0</td>\n",
              "      <td>0</td>\n",
              "      <td>0</td>\n",
              "      <td>0.008417</td>\n",
              "      <td>0.215586</td>\n",
              "      <td>0.103639</td>\n",
              "      <td>0.081530</td>\n",
              "      <td>0.192569</td>\n",
              "      <td>0.007118</td>\n",
              "      <td>0.000000</td>\n",
              "      <td>0.000000</td>\n",
              "      <td>0.000000</td>\n",
              "    </tr>\n",
              "    <tr>\n",
              "      <th>...</th>\n",
              "      <td>...</td>\n",
              "      <td>...</td>\n",
              "      <td>...</td>\n",
              "      <td>...</td>\n",
              "      <td>...</td>\n",
              "      <td>...</td>\n",
              "      <td>...</td>\n",
              "      <td>...</td>\n",
              "      <td>...</td>\n",
              "      <td>...</td>\n",
              "      <td>...</td>\n",
              "      <td>...</td>\n",
              "      <td>...</td>\n",
              "      <td>...</td>\n",
              "    </tr>\n",
              "    <tr>\n",
              "      <th>512</th>\n",
              "      <td>512</td>\n",
              "      <td>2020-04-18T17-29-39-337Z43</td>\n",
              "      <td>74.0</td>\n",
              "      <td>1</td>\n",
              "      <td>0</td>\n",
              "      <td>0.467770</td>\n",
              "      <td>0.058379</td>\n",
              "      <td>0.137685</td>\n",
              "      <td>0.226604</td>\n",
              "      <td>0.000440</td>\n",
              "      <td>0.001634</td>\n",
              "      <td>0.042374</td>\n",
              "      <td>0.001818</td>\n",
              "      <td>0.353959</td>\n",
              "    </tr>\n",
              "    <tr>\n",
              "      <th>513</th>\n",
              "      <td>513</td>\n",
              "      <td>2020-04-18T17-33-39-585Z56</td>\n",
              "      <td>67.0</td>\n",
              "      <td>0</td>\n",
              "      <td>1</td>\n",
              "      <td>0.005744</td>\n",
              "      <td>0.032865</td>\n",
              "      <td>0.189778</td>\n",
              "      <td>0.057712</td>\n",
              "      <td>0.212300</td>\n",
              "      <td>0.013286</td>\n",
              "      <td>0.309719</td>\n",
              "      <td>0.086577</td>\n",
              "      <td>0.000581</td>\n",
              "    </tr>\n",
              "    <tr>\n",
              "      <th>514</th>\n",
              "      <td>514</td>\n",
              "      <td>2020-04-18T21-15-17-924Z84</td>\n",
              "      <td>59.0</td>\n",
              "      <td>0</td>\n",
              "      <td>0</td>\n",
              "      <td>0.027014</td>\n",
              "      <td>0.557507</td>\n",
              "      <td>0.234040</td>\n",
              "      <td>0.976259</td>\n",
              "      <td>0.689190</td>\n",
              "      <td>0.030017</td>\n",
              "      <td>0.094675</td>\n",
              "      <td>0.070691</td>\n",
              "      <td>0.783146</td>\n",
              "    </tr>\n",
              "    <tr>\n",
              "      <th>515</th>\n",
              "      <td>515</td>\n",
              "      <td>2020-04-19T15-14-28-684Z91</td>\n",
              "      <td>64.0</td>\n",
              "      <td>0</td>\n",
              "      <td>0</td>\n",
              "      <td>0.021722</td>\n",
              "      <td>0.162771</td>\n",
              "      <td>0.905485</td>\n",
              "      <td>0.197712</td>\n",
              "      <td>0.198037</td>\n",
              "      <td>0.112724</td>\n",
              "      <td>0.059400</td>\n",
              "      <td>0.163631</td>\n",
              "      <td>1.268910</td>\n",
              "    </tr>\n",
              "    <tr>\n",
              "      <th>516</th>\n",
              "      <td>516</td>\n",
              "      <td>2020-04-20T14-36-35-981Z9</td>\n",
              "      <td>59.0</td>\n",
              "      <td>0</td>\n",
              "      <td>0</td>\n",
              "      <td>0.004831</td>\n",
              "      <td>0.159525</td>\n",
              "      <td>0.126691</td>\n",
              "      <td>0.053409</td>\n",
              "      <td>0.063835</td>\n",
              "      <td>0.012370</td>\n",
              "      <td>0.158586</td>\n",
              "      <td>0.054872</td>\n",
              "      <td>0.345505</td>\n",
              "    </tr>\n",
              "  </tbody>\n",
              "</table>\n",
              "<p>517 rows × 14 columns</p>\n",
              "</div>\n",
              "    <div class=\"colab-df-buttons\">\n",
              "\n",
              "  <div class=\"colab-df-container\">\n",
              "    <button class=\"colab-df-convert\" onclick=\"convertToInteractive('df-33ae5731-b087-48e2-b9d3-e0c24c5c0314')\"\n",
              "            title=\"Convert this dataframe to an interactive table.\"\n",
              "            style=\"display:none;\">\n",
              "\n",
              "  <svg xmlns=\"http://www.w3.org/2000/svg\" height=\"24px\" viewBox=\"0 -960 960 960\">\n",
              "    <path d=\"M120-120v-720h720v720H120Zm60-500h600v-160H180v160Zm220 220h160v-160H400v160Zm0 220h160v-160H400v160ZM180-400h160v-160H180v160Zm440 0h160v-160H620v160ZM180-180h160v-160H180v160Zm440 0h160v-160H620v160Z\"/>\n",
              "  </svg>\n",
              "    </button>\n",
              "\n",
              "  <style>\n",
              "    .colab-df-container {\n",
              "      display:flex;\n",
              "      gap: 12px;\n",
              "    }\n",
              "\n",
              "    .colab-df-convert {\n",
              "      background-color: #E8F0FE;\n",
              "      border: none;\n",
              "      border-radius: 50%;\n",
              "      cursor: pointer;\n",
              "      display: none;\n",
              "      fill: #1967D2;\n",
              "      height: 32px;\n",
              "      padding: 0 0 0 0;\n",
              "      width: 32px;\n",
              "    }\n",
              "\n",
              "    .colab-df-convert:hover {\n",
              "      background-color: #E2EBFA;\n",
              "      box-shadow: 0px 1px 2px rgba(60, 64, 67, 0.3), 0px 1px 3px 1px rgba(60, 64, 67, 0.15);\n",
              "      fill: #174EA6;\n",
              "    }\n",
              "\n",
              "    .colab-df-buttons div {\n",
              "      margin-bottom: 4px;\n",
              "    }\n",
              "\n",
              "    [theme=dark] .colab-df-convert {\n",
              "      background-color: #3B4455;\n",
              "      fill: #D2E3FC;\n",
              "    }\n",
              "\n",
              "    [theme=dark] .colab-df-convert:hover {\n",
              "      background-color: #434B5C;\n",
              "      box-shadow: 0px 1px 3px 1px rgba(0, 0, 0, 0.15);\n",
              "      filter: drop-shadow(0px 1px 2px rgba(0, 0, 0, 0.3));\n",
              "      fill: #FFFFFF;\n",
              "    }\n",
              "  </style>\n",
              "\n",
              "    <script>\n",
              "      const buttonEl =\n",
              "        document.querySelector('#df-33ae5731-b087-48e2-b9d3-e0c24c5c0314 button.colab-df-convert');\n",
              "      buttonEl.style.display =\n",
              "        google.colab.kernel.accessAllowed ? 'block' : 'none';\n",
              "\n",
              "      async function convertToInteractive(key) {\n",
              "        const element = document.querySelector('#df-33ae5731-b087-48e2-b9d3-e0c24c5c0314');\n",
              "        const dataTable =\n",
              "          await google.colab.kernel.invokeFunction('convertToInteractive',\n",
              "                                                    [key], {});\n",
              "        if (!dataTable) return;\n",
              "\n",
              "        const docLinkHtml = 'Like what you see? Visit the ' +\n",
              "          '<a target=\"_blank\" href=https://colab.research.google.com/notebooks/data_table.ipynb>data table notebook</a>'\n",
              "          + ' to learn more about interactive tables.';\n",
              "        element.innerHTML = '';\n",
              "        dataTable['output_type'] = 'display_data';\n",
              "        await google.colab.output.renderOutput(dataTable, element);\n",
              "        const docLink = document.createElement('div');\n",
              "        docLink.innerHTML = docLinkHtml;\n",
              "        element.appendChild(docLink);\n",
              "      }\n",
              "    </script>\n",
              "  </div>\n",
              "\n",
              "\n",
              "<div id=\"df-05bf6ef5-a543-4cce-b175-c3155ee2976a\">\n",
              "  <button class=\"colab-df-quickchart\" onclick=\"quickchart('df-05bf6ef5-a543-4cce-b175-c3155ee2976a')\"\n",
              "            title=\"Suggest charts.\"\n",
              "            style=\"display:none;\">\n",
              "\n",
              "<svg xmlns=\"http://www.w3.org/2000/svg\" height=\"24px\"viewBox=\"0 0 24 24\"\n",
              "     width=\"24px\">\n",
              "    <g>\n",
              "        <path d=\"M19 3H5c-1.1 0-2 .9-2 2v14c0 1.1.9 2 2 2h14c1.1 0 2-.9 2-2V5c0-1.1-.9-2-2-2zM9 17H7v-7h2v7zm4 0h-2V7h2v10zm4 0h-2v-4h2v4z\"/>\n",
              "    </g>\n",
              "</svg>\n",
              "  </button>\n",
              "\n",
              "<style>\n",
              "  .colab-df-quickchart {\n",
              "      --bg-color: #E8F0FE;\n",
              "      --fill-color: #1967D2;\n",
              "      --hover-bg-color: #E2EBFA;\n",
              "      --hover-fill-color: #174EA6;\n",
              "      --disabled-fill-color: #AAA;\n",
              "      --disabled-bg-color: #DDD;\n",
              "  }\n",
              "\n",
              "  [theme=dark] .colab-df-quickchart {\n",
              "      --bg-color: #3B4455;\n",
              "      --fill-color: #D2E3FC;\n",
              "      --hover-bg-color: #434B5C;\n",
              "      --hover-fill-color: #FFFFFF;\n",
              "      --disabled-bg-color: #3B4455;\n",
              "      --disabled-fill-color: #666;\n",
              "  }\n",
              "\n",
              "  .colab-df-quickchart {\n",
              "    background-color: var(--bg-color);\n",
              "    border: none;\n",
              "    border-radius: 50%;\n",
              "    cursor: pointer;\n",
              "    display: none;\n",
              "    fill: var(--fill-color);\n",
              "    height: 32px;\n",
              "    padding: 0;\n",
              "    width: 32px;\n",
              "  }\n",
              "\n",
              "  .colab-df-quickchart:hover {\n",
              "    background-color: var(--hover-bg-color);\n",
              "    box-shadow: 0 1px 2px rgba(60, 64, 67, 0.3), 0 1px 3px 1px rgba(60, 64, 67, 0.15);\n",
              "    fill: var(--button-hover-fill-color);\n",
              "  }\n",
              "\n",
              "  .colab-df-quickchart-complete:disabled,\n",
              "  .colab-df-quickchart-complete:disabled:hover {\n",
              "    background-color: var(--disabled-bg-color);\n",
              "    fill: var(--disabled-fill-color);\n",
              "    box-shadow: none;\n",
              "  }\n",
              "\n",
              "  .colab-df-spinner {\n",
              "    border: 2px solid var(--fill-color);\n",
              "    border-color: transparent;\n",
              "    border-bottom-color: var(--fill-color);\n",
              "    animation:\n",
              "      spin 1s steps(1) infinite;\n",
              "  }\n",
              "\n",
              "  @keyframes spin {\n",
              "    0% {\n",
              "      border-color: transparent;\n",
              "      border-bottom-color: var(--fill-color);\n",
              "      border-left-color: var(--fill-color);\n",
              "    }\n",
              "    20% {\n",
              "      border-color: transparent;\n",
              "      border-left-color: var(--fill-color);\n",
              "      border-top-color: var(--fill-color);\n",
              "    }\n",
              "    30% {\n",
              "      border-color: transparent;\n",
              "      border-left-color: var(--fill-color);\n",
              "      border-top-color: var(--fill-color);\n",
              "      border-right-color: var(--fill-color);\n",
              "    }\n",
              "    40% {\n",
              "      border-color: transparent;\n",
              "      border-right-color: var(--fill-color);\n",
              "      border-top-color: var(--fill-color);\n",
              "    }\n",
              "    60% {\n",
              "      border-color: transparent;\n",
              "      border-right-color: var(--fill-color);\n",
              "    }\n",
              "    80% {\n",
              "      border-color: transparent;\n",
              "      border-right-color: var(--fill-color);\n",
              "      border-bottom-color: var(--fill-color);\n",
              "    }\n",
              "    90% {\n",
              "      border-color: transparent;\n",
              "      border-bottom-color: var(--fill-color);\n",
              "    }\n",
              "  }\n",
              "</style>\n",
              "\n",
              "  <script>\n",
              "    async function quickchart(key) {\n",
              "      const quickchartButtonEl =\n",
              "        document.querySelector('#' + key + ' button');\n",
              "      quickchartButtonEl.disabled = true;  // To prevent multiple clicks.\n",
              "      quickchartButtonEl.classList.add('colab-df-spinner');\n",
              "      try {\n",
              "        const charts = await google.colab.kernel.invokeFunction(\n",
              "            'suggestCharts', [key], {});\n",
              "      } catch (error) {\n",
              "        console.error('Error during call to suggestCharts:', error);\n",
              "      }\n",
              "      quickchartButtonEl.classList.remove('colab-df-spinner');\n",
              "      quickchartButtonEl.classList.add('colab-df-quickchart-complete');\n",
              "    }\n",
              "    (() => {\n",
              "      let quickchartButtonEl =\n",
              "        document.querySelector('#df-05bf6ef5-a543-4cce-b175-c3155ee2976a button');\n",
              "      quickchartButtonEl.style.display =\n",
              "        google.colab.kernel.accessAllowed ? 'block' : 'none';\n",
              "    })();\n",
              "  </script>\n",
              "</div>\n",
              "    </div>\n",
              "  </div>\n"
            ]
          },
          "metadata": {},
          "execution_count": 50
        }
      ],
      "source": [
        "import pandas as pd\n",
        "import numpy as np\n",
        "import matplotlib.pyplot as plt\n",
        "data=pd.read_csv(\"face_mimic_df.csv\") #importing the Dataset\n",
        "data"
      ]
    },
    {
      "cell_type": "code",
      "source": [
        "data.dtypes #chechking the datatypes"
      ],
      "metadata": {
        "colab": {
          "base_uri": "https://localhost:8080/"
        },
        "id": "8O0E2QK_w_yc",
        "outputId": "e6ff8ab2-ab56-4cdd-efb3-4c0a4d94f16e"
      },
      "execution_count": 51,
      "outputs": [
        {
          "output_type": "execute_result",
          "data": {
            "text/plain": [
              "Unnamed: 0      int64\n",
              "id             object\n",
              "age           float64\n",
              "gender          int64\n",
              "diagnosed       int64\n",
              "AU_01_t12     float64\n",
              "AU_06_t12     float64\n",
              "AU_12_t12     float64\n",
              "AU_04_t13     float64\n",
              "AU_07_t13     float64\n",
              "AU_09_t13     float64\n",
              "AU_01_t14     float64\n",
              "AU_02_t14     float64\n",
              "AU_04_t14     float64\n",
              "dtype: object"
            ]
          },
          "metadata": {},
          "execution_count": 51
        }
      ]
    },
    {
      "cell_type": "code",
      "source": [
        "print(data.isnull().sum()) #null values calculation"
      ],
      "metadata": {
        "colab": {
          "base_uri": "https://localhost:8080/"
        },
        "id": "-sMOCzXjxB69",
        "outputId": "86ced455-4e72-4c93-c54d-8fe407560200"
      },
      "execution_count": 52,
      "outputs": [
        {
          "output_type": "stream",
          "name": "stdout",
          "text": [
            "Unnamed: 0    0\n",
            "id            0\n",
            "age           0\n",
            "gender        0\n",
            "diagnosed     0\n",
            "AU_01_t12     0\n",
            "AU_06_t12     0\n",
            "AU_12_t12     0\n",
            "AU_04_t13     0\n",
            "AU_07_t13     0\n",
            "AU_09_t13     0\n",
            "AU_01_t14     0\n",
            "AU_02_t14     0\n",
            "AU_04_t14     0\n",
            "dtype: int64\n"
          ]
        }
      ]
    },
    {
      "cell_type": "code",
      "source": [
        "data.dropna(inplace=True) # dropping the data that has null values (in our case none)"
      ],
      "metadata": {
        "id": "-64QJmuZxFpd"
      },
      "execution_count": 55,
      "outputs": []
    },
    {
      "cell_type": "markdown",
      "source": [
        "A1"
      ],
      "metadata": {
        "id": "XHPGuUpryDz_"
      }
    },
    {
      "cell_type": "code",
      "source": [
        "au_12_t12_class_0 = data[data['diagnosed'] == 0]['AU_12_t12'] #getting the class 0 (not diagonised) cases from AU_12_t12\n",
        "\n",
        "au_12_t12_class_1 = data[data['diagnosed'] == 1]['AU_12_t12']\n",
        "\n",
        "au_12_t12_class_0_mean = au_12_t12_class_0.mean()\n",
        "au_12_t12_class_0_std = au_12_t12_class_0.std()\n",
        "\n",
        "au_12_t12_class_1_mean = au_12_t12_class_1.mean()\n",
        "au_12_t12_class_1_std = au_12_t12_class_1.std()\n",
        "\n",
        "distance_between_classes = np.linalg.norm(au_12_t12_class_0_mean - au_12_t12_class_1_mean)\n",
        "\n",
        "print(\"Mean for 'AU_12_t12' in Class 0:\", au_12_t12_class_0_mean)\n",
        "print(\"Standard Deviation for 'AU_12_t12' in Class 0:\", au_12_t12_class_0_std)\n",
        "\n",
        "print(\"\\nMean for 'AU_12_t12' in Class 1:\", au_12_t12_class_1_mean)\n",
        "print(\"Standard Deviation for 'AU_12_t12' in Class 1:\", au_12_t12_class_1_std)\n",
        "\n",
        "print(\"\\nDistance Between Mean Values for 'AU_12_t12':\", distance_between_classes)"
      ],
      "metadata": {
        "colab": {
          "base_uri": "https://localhost:8080/"
        },
        "id": "kWG9IT5FtpSG",
        "outputId": "4b7a3eec-67ca-4fd0-e987-b24950873bab"
      },
      "execution_count": 56,
      "outputs": [
        {
          "output_type": "stream",
          "name": "stdout",
          "text": [
            "Mean for 'AU_12_t12' in Class 0: 0.2728411276381347\n",
            "Standard Deviation for 'AU_12_t12' in Class 0: 0.2433491739353004\n",
            "\n",
            "Mean for 'AU_12_t12' in Class 1: 0.21087861946094646\n",
            "Standard Deviation for 'AU_12_t12' in Class 1: 0.17945407302114363\n",
            "\n",
            "Distance Between Mean Values for 'AU_12_t12': 0.06196250817718821\n"
          ]
        }
      ]
    },
    {
      "cell_type": "code",
      "source": [
        "import seaborn as sns\n",
        "\n",
        "sns.histplot(x = au_12_t12_class_1, color = \"lightblue\", edgecolor = 'None') # Spread of au_12_t12_class_1"
      ],
      "metadata": {
        "colab": {
          "base_uri": "https://localhost:8080/",
          "height": 466
        },
        "id": "rFEGjNbJpKod",
        "outputId": "b71a1c16-8fc7-41dd-d608-ba91133ef73e"
      },
      "execution_count": 38,
      "outputs": [
        {
          "output_type": "execute_result",
          "data": {
            "text/plain": [
              "<Axes: xlabel='AU_12_t12', ylabel='Count'>"
            ]
          },
          "metadata": {},
          "execution_count": 38
        },
        {
          "output_type": "display_data",
          "data": {
            "text/plain": [
              "<Figure size 640x480 with 1 Axes>"
            ],
            "image/png": "[encoded data removed]"
          },
          "metadata": {}
        }
      ]
    },
    {
      "cell_type": "markdown",
      "source": [
        "A2"
      ],
      "metadata": {
        "id": "9iCkaBppyJ_S"
      }
    },
    {
      "cell_type": "code",
      "source": [
        "hist, bin_edges = np.histogram(data['AU_07_t13'], bins=15)\n",
        "\n",
        "mean_value = np.mean(data['AU_07_t13'])\n",
        "variance_value = np.var(data['AU_07_t13'])\n",
        "\n",
        "plt.hist(data['AU_07_t13'], bins=15, alpha=0.7, color='green')\n",
        "plt.xlabel('AU_07_t13 Values')\n",
        "plt.ylabel('Frequency')\n",
        "plt.title('Histogram of AU_07_t13')\n",
        "plt.show()\n",
        "\n",
        "print(\"Mean:\", mean_value)\n",
        "print(\"Variance:\", variance_value)"
      ],
      "metadata": {
        "colab": {
          "base_uri": "https://localhost:8080/",
          "height": 507
        },
        "id": "5VSKxZIcyLkx",
        "outputId": "330e3693-0d21-41a8-85d3-2f524cea1706"
      },
      "execution_count": 24,
      "outputs": [
        {
          "output_type": "display_data",
          "data": {
            "text/plain": [
              "<Figure size 640x480 with 1 Axes>"
            ],
            "image/png": "[encoded data removed]"
          },
          "metadata": {}
        },
        {
          "output_type": "stream",
          "name": "stdout",
          "text": [
            "Mean: 0.23821816307063998\n",
            "Variance: 0.06953914496080574\n"
          ]
        }
      ]
    },
    {
      "cell_type": "markdown",
      "source": [],
      "metadata": {
        "id": "mdkh8Tqy0Ts3"
      }
    },
    {
      "cell_type": "code",
      "source": [
        "from sklearn.preprocessing import LabelEncoder\n",
        "label_encoder = LabelEncoder()\n",
        "data['id'] = label_encoder.fit_transform(data['id']) # Label encoding\n",
        "print(data.head())"
      ],
      "metadata": {
        "colab": {
          "base_uri": "https://localhost:8080/"
        },
        "id": "y9vkhSZW9QxU",
        "outputId": "9384c39c-425a-40d1-d3d2-407eaa1f0aab"
      },
      "execution_count": 57,
      "outputs": [
        {
          "output_type": "stream",
          "name": "stdout",
          "text": [
            "   Unnamed: 0  id   age  gender  diagnosed  AU_01_t12  AU_06_t12  AU_12_t12  \\\n",
            "0           0   0  65.0       1          1   0.079102   0.252395   0.482137   \n",
            "1           1   1  57.0       1          1   0.059371   0.086916   0.147827   \n",
            "2           2   2  51.0       1          0   0.228496   0.517799   0.077302   \n",
            "3           3   3  72.0       1          1   0.058291   0.077728   0.170557   \n",
            "4           4   4  86.0       0          0   0.008417   0.215586   0.103639   \n",
            "\n",
            "   AU_04_t13  AU_07_t13  AU_09_t13  AU_01_t14  AU_02_t14  AU_04_t14  \n",
            "0   0.216193   0.074656   0.005104   0.276285   0.103460   1.463085  \n",
            "1   0.321326   0.100838   0.015806   0.339573   0.034221   0.327894  \n",
            "2   0.023963   0.008114   0.009518   0.249356   0.187397   0.123984  \n",
            "3   0.243995   0.012674   0.108509   1.021001   1.738898   0.254853  \n",
            "4   0.081530   0.192569   0.007118   0.000000   0.000000   0.000000  \n"
          ]
        }
      ]
    },
    {
      "cell_type": "code",
      "source": [
        "vector1 = data.iloc[3, :] #iloc[rows,cols]\n",
        "vector2 = data.iloc[4, :]\n",
        "distances = []\n",
        "r_values = list(range(1, 11))\n",
        "for r in r_values:\n",
        "    distance = np.power(np.sum(np.abs(vector1 - vector2) ** r), 1/r) #formula = sum i to n(|Xi - Yi|^r)^1/r\n",
        "    distances.append(distance)\n",
        "\n",
        "plt.plot(r_values, distances, marker='o', linestyle='--')\n",
        "plt.xlabel('r')\n",
        "plt.ylabel('Minkowski Distance')\n",
        "plt.title('Minkowski Distance vs. r')\n",
        "plt.grid(True)\n",
        "plt.show()"
      ],
      "metadata": {
        "colab": {
          "base_uri": "https://localhost:8080/",
          "height": 472
        },
        "id": "BDKWwbRU81fE",
        "outputId": "e5743ab3-a9f2-41b3-9919-80ea3e0fe4a6"
      },
      "execution_count": 26,
      "outputs": [
        {
          "output_type": "display_data",
          "data": {
            "text/plain": [
              "<Figure size 640x480 with 1 Axes>"
            ],
            "image/png": "[encoded data removed]"
          },
          "metadata": {}
        }
      ]
    },
    {
      "cell_type": "code",
      "source": [
        "import numpy as np\n",
        "from sklearn.model_selection import train_test_split\n",
        "x = data.drop(\"diagnosed\",axis=1) #traning set\n",
        "y = data[\"diagnosed\"] # Labels\n",
        "\n",
        "x_train, x_test, y_train, y_test = train_test_split(x, y, test_size=0.2)\n",
        "#x_train is traning set , Xtest is testing set\n",
        "#y_train is traning set , Ytest is testing set"
      ],
      "metadata": {
        "id": "K5eXkIg-95YT"
      },
      "execution_count": 27,
      "outputs": []
    },
    {
      "cell_type": "code",
      "source": [
        "print(x_test)\n",
        "print(y_test)"
      ],
      "metadata": {
        "colab": {
          "base_uri": "https://localhost:8080/"
        },
        "id": "uA9wur4D-W-x",
        "outputId": "be677af4-25b7-45a7-d7b1-6c03429a4037"
      },
      "execution_count": 28,
      "outputs": [
        {
          "output_type": "stream",
          "name": "stdout",
          "text": [
            "     Unnamed: 0   id   age  gender  AU_01_t12  AU_06_t12  AU_12_t12  \\\n",
            "231         231  133  60.0       0   0.104666   0.365643   0.229930   \n",
            "401         401  392  67.0       1   0.198692   0.416175   0.158103   \n",
            "428         428  421  65.0       0   0.067903   0.257276   0.370245   \n",
            "263         263   91  69.0       1   0.065976   0.443624   0.314699   \n",
            "237         237  113  68.0       0   0.064867   0.337041   0.100205   \n",
            "..          ...  ...   ...     ...        ...        ...        ...   \n",
            "359         359  262  62.0       0   0.061409   0.043559   0.273672   \n",
            "307         307  286  76.0       1   0.060084   0.027127   0.098104   \n",
            "128         128  213  76.0       0   0.031500   0.510877   0.904483   \n",
            "319         319  298  65.0       0   0.027215   0.037340   0.025285   \n",
            "117         117  226  66.0       1   0.034165   0.629569   0.255505   \n",
            "\n",
            "     AU_04_t13  AU_07_t13  AU_09_t13  AU_01_t14  AU_02_t14  AU_04_t14  \n",
            "231   0.421384   0.144114   0.039107   0.063300   0.017284   0.349627  \n",
            "401   0.267669   0.160496   0.017847   0.313714   0.050735   0.100854  \n",
            "428   0.024048   0.185502   0.034406   0.307305   0.191854   0.219564  \n",
            "263   0.107454   0.108555   0.011683   0.175558   0.059470   0.227658  \n",
            "237   0.143983   0.300872   0.014289   0.377834   0.061854   0.195072  \n",
            "..         ...        ...        ...        ...        ...        ...  \n",
            "359   0.102693   0.036469   0.037085   0.029392   0.016892   0.172604  \n",
            "307   0.087250   0.024265   0.003911   0.017432   0.008460   0.057267  \n",
            "128   2.403579   0.168826   0.060033   0.453429   0.184572   0.227389  \n",
            "319   0.106376   0.063437   0.002529   0.065245   0.012756   0.438433  \n",
            "117   0.083380   0.203820   0.002622   0.223469   0.046858   0.261452  \n",
            "\n",
            "[104 rows x 13 columns]\n",
            "231    0\n",
            "401    0\n",
            "428    0\n",
            "263    0\n",
            "237    0\n",
            "      ..\n",
            "359    0\n",
            "307    0\n",
            "128    0\n",
            "319    0\n",
            "117    0\n",
            "Name: diagnosed, Length: 104, dtype: int64\n"
          ]
        }
      ]
    },
    {
      "cell_type": "code",
      "source": [
        "from sklearn.neighbors import KNeighborsClassifier\n",
        "knn=KNeighborsClassifier(n_neighbors=3) # Inisiating KNN class from Sklearn library\n",
        "knn.fit(x_train,y_train) #fiting the data into the model and traning it"
      ],
      "metadata": {
        "colab": {
          "base_uri": "https://localhost:8080/",
          "height": 75
        },
        "id": "jf0sieYU-mwz",
        "outputId": "07145ac0-f1a0-41f5-edef-f2cdc080c092"
      },
      "execution_count": 32,
      "outputs": [
        {
          "output_type": "execute_result",
          "data": {
            "text/plain": [
              "KNeighborsClassifier(n_neighbors=3)"
            ],
            "text/html": [
              "<style>#sk-container-id-3 {color: black;background-color: white;}#sk-container-id-3 pre{padding: 0;}#sk-container-id-3 div.sk-toggleable {background-color: white;}#sk-container-id-3 label.sk-toggleable__label {cursor: pointer;display: block;width: 100%;margin-bottom: 0;padding: 0.3em;box-sizing: border-box;text-align: center;}#sk-container-id-3 label.sk-toggleable__label-arrow:before {content: \"▸\";float: left;margin-right: 0.25em;color: #696969;}#sk-container-id-3 label.sk-toggleable__label-arrow:hover:before {color: black;}#sk-container-id-3 div.sk-estimator:hover label.sk-toggleable__label-arrow:before {color: black;}#sk-container-id-3 div.sk-toggleable__content {max-height: 0;max-width: 0;overflow: hidden;text-align: left;background-color: #f0f8ff;}#sk-container-id-3 div.sk-toggleable__content pre {margin: 0.2em;color: black;border-radius: 0.25em;background-color: #f0f8ff;}#sk-container-id-3 input.sk-toggleable__control:checked~div.sk-toggleable__content {max-height: 200px;max-width: 100%;overflow: auto;}#sk-container-id-3 input.sk-toggleable__control:checked~label.sk-toggleable__label-arrow:before {content: \"▾\";}#sk-container-id-3 div.sk-estimator input.sk-toggleable__control:checked~label.sk-toggleable__label {background-color: #d4ebff;}#sk-container-id-3 div.sk-label input.sk-toggleable__control:checked~label.sk-toggleable__label {background-color: #d4ebff;}#sk-container-id-3 input.sk-hidden--visually {border: 0;clip: rect(1px 1px 1px 1px);clip: rect(1px, 1px, 1px, 1px);height: 1px;margin: -1px;overflow: hidden;padding: 0;position: absolute;width: 1px;}#sk-container-id-3 div.sk-estimator {font-family: monospace;background-color: #f0f8ff;border: 1px dotted black;border-radius: 0.25em;box-sizing: border-box;margin-bottom: 0.5em;}#sk-container-id-3 div.sk-estimator:hover {background-color: #d4ebff;}#sk-container-id-3 div.sk-parallel-item::after {content: \"\";width: 100%;border-bottom: 1px solid gray;flex-grow: 1;}#sk-container-id-3 div.sk-label:hover label.sk-toggleable__label {background-color: #d4ebff;}#sk-container-id-3 div.sk-serial::before {content: \"\";position: absolute;border-left: 1px solid gray;box-sizing: border-box;top: 0;bottom: 0;left: 50%;z-index: 0;}#sk-container-id-3 div.sk-serial {display: flex;flex-direction: column;align-items: center;background-color: white;padding-right: 0.2em;padding-left: 0.2em;position: relative;}#sk-container-id-3 div.sk-item {position: relative;z-index: 1;}#sk-container-id-3 div.sk-parallel {display: flex;align-items: stretch;justify-content: center;background-color: white;position: relative;}#sk-container-id-3 div.sk-item::before, #sk-container-id-3 div.sk-parallel-item::before {content: \"\";position: absolute;border-left: 1px solid gray;box-sizing: border-box;top: 0;bottom: 0;left: 50%;z-index: -1;}#sk-container-id-3 div.sk-parallel-item {display: flex;flex-direction: column;z-index: 1;position: relative;background-color: white;}#sk-container-id-3 div.sk-parallel-item:first-child::after {align-self: flex-end;width: 50%;}#sk-container-id-3 div.sk-parallel-item:last-child::after {align-self: flex-start;width: 50%;}#sk-container-id-3 div.sk-parallel-item:only-child::after {width: 0;}#sk-container-id-3 div.sk-dashed-wrapped {border: 1px dashed gray;margin: 0 0.4em 0.5em 0.4em;box-sizing: border-box;padding-bottom: 0.4em;background-color: white;}#sk-container-id-3 div.sk-label label {font-family: monospace;font-weight: bold;display: inline-block;line-height: 1.2em;}#sk-container-id-3 div.sk-label-container {text-align: center;}#sk-container-id-3 div.sk-container {/* jupyter's `normalize.less` sets `[hidden] { display: none; }` but bootstrap.min.css set `[hidden] { display: none !important; }` so we also need the `!important` here to be able to override the default hidden behavior on the sphinx rendered scikit-learn.org. See: https://github.com/scikit-learn/scikit-learn/issues/21755 */display: inline-block !important;position: relative;}#sk-container-id-3 div.sk-text-repr-fallback {display: none;}</style><div id=\"sk-container-id-3\" class=\"sk-top-container\"><div class=\"sk-text-repr-fallback\"><pre>KNeighborsClassifier(n_neighbors=3)</pre><b>In a Jupyter environment, please rerun this cell to show the HTML representation or trust the notebook. <br />On GitHub, the HTML representation is unable to render, please try loading this page with nbviewer.org.</b></div><div class=\"sk-container\" hidden><div class=\"sk-item\"><div class=\"sk-estimator sk-toggleable\"><input class=\"sk-toggleable__control sk-hidden--visually\" id=\"sk-estimator-id-3\" type=\"checkbox\" checked><label for=\"sk-estimator-id-3\" class=\"sk-toggleable__label sk-toggleable__label-arrow\">KNeighborsClassifier</label><div class=\"sk-toggleable__content\"><pre>KNeighborsClassifier(n_neighbors=3)</pre></div></div></div></div></div>"
            ]
          },
          "metadata": {},
          "execution_count": 32
        }
      ]
    },
    {
      "cell_type": "code",
      "source": [
        "knn.score(x_test,y_test)"
      ],
      "metadata": {
        "colab": {
          "base_uri": "https://localhost:8080/"
        },
        "id": "yrzZLugH-2s2",
        "outputId": "2175efd7-f75f-49c8-9b92-fde465f55c91"
      },
      "execution_count": 30,
      "outputs": [
        {
          "output_type": "execute_result",
          "data": {
            "text/plain": [
              "0.9423076923076923"
            ]
          },
          "metadata": {},
          "execution_count": 30
        }
      ]
    },
    {
      "cell_type": "code",
      "source": [],
      "metadata": {
        "id": "8PzZ-isB_q88"
      },
      "execution_count": 43,
      "outputs": []
    },
    {
      "cell_type": "code",
      "source": [
        "from sklearn.metrics import confusion_matrix, precision_score, recall_score, f1_score, accuracy_score, ConfusionMatrixDisplay\n",
        "y_pred = knn.predict(x_test)\n",
        "confusion = confusion_matrix(y_test, y_pred)\n",
        "precision = precision_score(y_test, y_pred)\n",
        "recall = recall_score(y_test, y_pred)\n",
        "accuracy = accuracy_score(y_test, y_pred)\n",
        "f1 = f1_score(y_test, y_pred)\n",
        "\n",
        "print(\"Confusion Matrix:\")\n",
        "print(confusion)\n",
        "display = ConfusionMatrixDisplay(confusion,display_labels=knn.classes_)\n",
        "display.plot()\n",
        "print(f\"Precision: {precision}\")\n",
        "print(f\"Recall: {recall}\")\n",
        "print(f\"F1-Score: {f1}\")\n",
        "print(f\"accuracy-Score: {accuracy}\")\n",
        "\n",
        "\n",
        "if precision > recall:\n",
        "    print(\"The model is tending towards overfitting.\")\n",
        "elif precision < recall:\n",
        "    print(\"The model is tending towards underfitting.\")\n",
        "else:\n",
        "    print(\"The model has a regular fit.\")\n"
      ],
      "metadata": {
        "colab": {
          "base_uri": "https://localhost:8080/",
          "height": 588
        },
        "id": "r1ogT6hh_vZy",
        "outputId": "02ff29e3-fc84-4fbb-a831-e6c839d1fe9f"
      },
      "execution_count": 49,
      "outputs": [
        {
          "output_type": "stream",
          "name": "stdout",
          "text": [
            "Confusion Matrix:\n",
            "[[95  3]\n",
            " [ 3  3]]\n",
            "Precision: 0.5\n",
            "Recall: 0.5\n",
            "F1-Score: 0.5\n",
            "accuracy-Score: 0.9423076923076923\n",
            "The model has a regular fit.\n"
          ]
        },
        {
          "output_type": "display_data",
          "data": {
            "text/plain": [
              "<Figure size 640x480 with 2 Axes>"
            ],
            "image/png": "[encoded data removed]"
          },
          "metadata": {}
        }
      ]
    },
    {
      "cell_type": "markdown",
      "source": [],
      "metadata": {
        "id": "mULeRzsQx1pY"
      }
    }
  ]
}